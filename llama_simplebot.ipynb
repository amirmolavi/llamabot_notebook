{
 "cells": [
  {
   "cell_type": "code",
   "execution_count": 1,
   "id": "b5352c9e-c8ee-4013-86e5-bc6195d08763",
   "metadata": {},
   "outputs": [],
   "source": [
    "from llamabot import SimpleBot\n",
    "\n",
    "system_prompt = \"You are Richard Feynman. You will be given a difficult concept, and your task is to explain it back.\"\n",
    "feynman = SimpleBot(\n",
    "  system_prompt,\n",
    "  model_name=\"gpt-3.5-turbo\"\n",
    ")"
   ]
  },
  {
   "cell_type": "code",
   "execution_count": 2,
   "id": "a5b1ed8c-9d29-4ca0-8cf8-4b84218d9005",
   "metadata": {},
   "outputs": [
    {
     "data": {
      "text/plain": [
       "AIMessage(content=\"Alright, let me break this down for you in simpler terms. \\n\\nSo, enzymes are like little machines in our bodies that help with chemical reactions. Scientists have a hard time figuring out what each enzyme does, especially for ones that haven't been studied much before or have multiple jobs. \\n\\nThere are computer programs that try to guess what these enzymes do based on their characteristics, but they're not always accurate. \\n\\nNow, a new program called CLEAN has been created using a special type of learning called contrastive learning. This program is better at figuring out what these enzymes do compared to the best existing tool called BLASTp. \\n\\nCLEAN can help identify the jobs of enzymes that haven't been studied much, fix mistakes in labeling enzymes, and even find enzymes that can do more than one job. \\n\\nBy using this program, scientists hope to better understand the functions of unknown enzymes, which can be really helpful in fields like genetics, making new biological systems, and using enzymes for different purposes.\", role='assistant')"
      ]
     },
     "execution_count": 2,
     "metadata": {},
     "output_type": "execute_result"
    }
   ],
   "source": [
    "prompt = \"\"\"\n",
    "Enzyme function annotation is a fundamental challenge, and numerous computational tools have been developed.\n",
    "However, most of these tools cannot accurately predict functional annotations,\n",
    "such as enzyme commission (EC) number,\n",
    "for less-studied proteins or those with previously uncharacterized functions or multiple activities.\n",
    "We present a machine learning algorithm named CLEAN (contrastive learning–enabled enzyme annotation)\n",
    "to assign EC numbers to enzymes with better accuracy, reliability,\n",
    "and sensitivity compared with the state-of-the-art tool BLASTp.\n",
    "The contrastive learning framework empowers CLEAN to confidently (i) annotate understudied enzymes,\n",
    "(ii) correct mislabeled enzymes, and (iii) identify promiscuous enzymes with two or more EC numbers—functions\n",
    "that we demonstrate by systematic in silico and in vitro experiments.\n",
    "We anticipate that this tool will be widely used for predicting the functions of uncharacterized enzymes,\n",
    "thereby advancing many fields, such as genomics, synthetic biology, and biocatalysis.\n",
    "\"\"\"\n",
    "feynman(prompt)"
   ]
  },
  {
   "cell_type": "code",
   "execution_count": null,
   "id": "2689b881-44b1-45c1-9b1a-427b4dba787c",
   "metadata": {},
   "outputs": [],
   "source": []
  }
 ],
 "metadata": {
  "kernelspec": {
   "display_name": "Poetry",
   "language": "python",
   "name": "poetry-kernel"
  },
  "language_info": {
   "codemirror_mode": {
    "name": "ipython",
    "version": 3
   },
   "file_extension": ".py",
   "mimetype": "text/x-python",
   "name": "python",
   "nbconvert_exporter": "python",
   "pygments_lexer": "ipython3",
   "version": "3.12.6"
  }
 },
 "nbformat": 4,
 "nbformat_minor": 5
}
